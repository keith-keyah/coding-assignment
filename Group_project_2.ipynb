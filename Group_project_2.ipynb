{
  "cells": [
    {
      "cell_type": "markdown",
      "metadata": {
        "id": "view-in-github",
        "colab_type": "text"
      },
      "source": [
        "<a href=\"https://colab.research.google.com/github/keith-keyah/coding-assignment/blob/main/Group_project_2.ipynb\" target=\"_parent\"><img src=\"https://colab.research.google.com/assets/colab-badge.svg\" alt=\"Open In Colab\"/></a>"
      ]
    },
    {
      "cell_type": "code",
      "source": [
        "import numpy as np\n"
      ],
      "metadata": {
        "id": "PqZwWCmvxdh2"
      },
      "execution_count": null,
      "outputs": []
    },
    {
      "cell_type": "code",
      "execution_count": null,
      "metadata": {
        "colab": {
          "base_uri": "https://localhost:8080/"
        },
        "id": "FomuepXYxKER",
        "outputId": "0952026a-9207-4e39-ece2-4e71356186c7"
      },
      "outputs": [
        {
          "output_type": "stream",
          "name": "stdout",
          "text": [
            "great work\n",
            "good\n",
            "try harder\n",
            "good\n"
          ]
        }
      ],
      "source": [
        "students=['Ian','Lex','Brad','Franz']\n",
        "students_grades=['A','B','C','B']\n",
        "for grade in students_grades:\n",
        "  if grade == 'A':\n",
        "    print('great work')\n",
        "  if grade == 'B':\n",
        "    print('good')\n",
        "  if grade == 'C':\n",
        "    print('try harder')\n"
      ]
    },
    {
      "cell_type": "code",
      "source": [
        "value_counts.students\n"
      ],
      "metadata": {
        "colab": {
          "base_uri": "https://localhost:8080/",
          "height": 145
        },
        "id": "TmykDm3Kxp32",
        "outputId": "997d23ee-4fc6-48c8-9248-b3309e734643"
      },
      "execution_count": null,
      "outputs": [
        {
          "output_type": "error",
          "ename": "NameError",
          "evalue": "name 'value_counts' is not defined",
          "traceback": [
            "\u001b[0;31m---------------------------------------------------------------------------\u001b[0m",
            "\u001b[0;31mNameError\u001b[0m                                 Traceback (most recent call last)",
            "\u001b[0;32m/tmp/ipython-input-25-1383542386.py\u001b[0m in \u001b[0;36m<cell line: 0>\u001b[0;34m()\u001b[0m\n\u001b[0;32m----> 1\u001b[0;31m \u001b[0mvalue_counts\u001b[0m\u001b[0;34m.\u001b[0m\u001b[0mstudents\u001b[0m\u001b[0;34m\u001b[0m\u001b[0;34m\u001b[0m\u001b[0m\n\u001b[0m",
            "\u001b[0;31mNameError\u001b[0m: name 'value_counts' is not defined"
          ]
        }
      ]
    },
    {
      "cell_type": "code",
      "source": [
        "students=['Ian','Lex','Brad','Franz']\n",
        "students_grades=['A','B','C','B']\n",
        "student_gradelist={'Ian' : 'A' , 'Lex' : 'B' , 'Brad' : 'C' , 'Franz' : 'B'}\n",
        "for student, grade in student_gradelist.items():\n",
        "  if grade == 'A':\n",
        "    print('great work'+ ',',student)\n",
        "  if grade == 'B':\n",
        "    print('good work'+',',student)\n",
        "  if grade == 'C':\n",
        "    print('try harder'+',',student,)"
      ],
      "metadata": {
        "colab": {
          "base_uri": "https://localhost:8080/"
        },
        "id": "IWZNmPzJFJAY",
        "outputId": "b16c5804-1bdf-40d9-eb26-f94f98d06240"
      },
      "execution_count": null,
      "outputs": [
        {
          "output_type": "stream",
          "name": "stdout",
          "text": [
            "great work, Ian\n",
            "good work, Lex\n",
            "try harder, Brad\n",
            "good work, Franz\n"
          ]
        }
      ]
    },
    {
      "cell_type": "code",
      "source": [
        "for index  in [0,1,2,3]:\n",
        "    print(students [index] + ',',students_grades[index])"
      ],
      "metadata": {
        "colab": {
          "base_uri": "https://localhost:8080/"
        },
        "id": "u1hCvzHb_a9V",
        "outputId": "5a610e90-00e5-4d27-d04f-febe1c0ccbe2"
      },
      "execution_count": null,
      "outputs": [
        {
          "output_type": "stream",
          "name": "stdout",
          "text": [
            "Ian, A\n",
            "Lex, B\n",
            "Brad, C\n",
            "Franz, B\n"
          ]
        }
      ]
    },
    {
      "cell_type": "code",
      "execution_count": null,
      "metadata": {
        "id": "MkIhTwZ86Mps",
        "colab": {
          "base_uri": "https://localhost:8080/"
        },
        "outputId": "2051627e-e9e4-46a6-c806-99c0497a692e"
      },
      "outputs": [
        {
          "output_type": "stream",
          "name": "stdout",
          "text": [
            "student has attained a grade of A\n",
            "student has attained a grade of A\n",
            "student has attained a grade of A\n",
            "student has failed to attain a grade of A\n",
            "student has failed to attain a grade of A\n"
          ]
        }
      ],
      "source": [
        "#nested if\n",
        "grades_list = [80,75,90,55,60]\n",
        "for grade in grades_list:\n",
        "     if grade >= 70:\n",
        "      print(f'student has attained a grade of A')\n",
        "\n",
        "     if grade < 70:\n",
        "      print(f'student has failed to attain a grade of A')"
      ]
    },
    {
      "cell_type": "code",
      "execution_count": null,
      "metadata": {
        "colab": {
          "base_uri": "https://localhost:8080/"
        },
        "id": "HNpD2Ewu0k-U",
        "outputId": "ae8e658c-ce41-40f7-b343-aa46f7b55986"
      },
      "outputs": [
        {
          "output_type": "stream",
          "name": "stdout",
          "text": [
            "student has attained a grade of A\n",
            "student has attained a grade of A\n",
            "student has attained a grade of A\n",
            "student has attained a grade of A\n",
            "student has failed to attain a grade of A\n"
          ]
        }
      ],
      "source": [
        "#while loop\n",
        "grades_list = [80,75,90,85,60]\n",
        "for grade in grades_list:\n",
        "    while grade >= 70:\n",
        "      print(f'student has attained a grade of A')\n",
        "      break\n",
        "    while grade < 70:\n",
        "      print(f'student has failed to attain a grade of A')\n",
        "      break\n",
        "\n"
      ]
    },
    {
      "cell_type": "code",
      "execution_count": null,
      "metadata": {
        "id": "89mlzYS07QYB"
      },
      "outputs": [],
      "source": [
        "def calculate_average(sum,number_of_grades):\n",
        "  average= sum/number_of_grades\n",
        "  return average\n",
        "\n"
      ]
    },
    {
      "cell_type": "code",
      "execution_count": null,
      "metadata": {
        "colab": {
          "base_uri": "https://localhost:8080/"
        },
        "id": "o-xQ2PfG8v9R",
        "outputId": "d85a721b-8104-4996-b058-5cfea31688ea"
      },
      "outputs": [
        {
          "output_type": "execute_result",
          "data": {
            "text/plain": [
              "78.0"
            ]
          },
          "metadata": {},
          "execution_count": 7
        }
      ],
      "source": [
        "calculate_average(390,5)"
      ]
    },
    {
      "cell_type": "code",
      "source": [
        "def calculate_average(grades_list):\n",
        "  length_of_list = len(grades_list) # 4\n",
        "  total_sum = sum(grades_list)\n",
        "\n",
        "  average = total_sum/length_of_list\n",
        "  return average"
      ],
      "metadata": {
        "id": "z4W9vhdnDLuJ"
      },
      "execution_count": null,
      "outputs": []
    },
    {
      "cell_type": "code",
      "source": [
        "calculate_average(grades_list)"
      ],
      "metadata": {
        "colab": {
          "base_uri": "https://localhost:8080/"
        },
        "id": "5uIg_nxDDlEo",
        "outputId": "2e15f968-7fe7-4eef-aded-182989cd9ffa"
      },
      "execution_count": null,
      "outputs": [
        {
          "output_type": "execute_result",
          "data": {
            "text/plain": [
              "78.0"
            ]
          },
          "metadata": {},
          "execution_count": 9
        }
      ]
    },
    {
      "cell_type": "code",
      "source": [
        "import numpy as np\n",
        "import matplotlib.pyplot as plt\n"
      ],
      "metadata": {
        "id": "6excDL6a6L8S"
      },
      "execution_count": null,
      "outputs": []
    },
    {
      "cell_type": "code",
      "source": [
        "grades_listsort=sorted(grades_list)\n",
        "grades_listsort"
      ],
      "metadata": {
        "colab": {
          "base_uri": "https://localhost:8080/"
        },
        "id": "mK9RzEGy6PYT",
        "outputId": "f4716708-9795-4bb8-f753-ff89c0f24029"
      },
      "execution_count": null,
      "outputs": [
        {
          "output_type": "execute_result",
          "data": {
            "text/plain": [
              "[60, 75, 80, 85, 90]"
            ]
          },
          "metadata": {},
          "execution_count": 11
        }
      ]
    },
    {
      "cell_type": "code",
      "source": [
        "np.median(grades_listsort)"
      ],
      "metadata": {
        "colab": {
          "base_uri": "https://localhost:8080/"
        },
        "id": "xFlOC8NQ6Us2",
        "outputId": "035843f4-e1a3-4d2e-f82a-dd0f33ba7a31"
      },
      "execution_count": null,
      "outputs": [
        {
          "output_type": "execute_result",
          "data": {
            "text/plain": [
              "np.float64(80.0)"
            ]
          },
          "metadata": {},
          "execution_count": 12
        }
      ]
    },
    {
      "cell_type": "code",
      "source": [
        "np.mean(grades_listsort)"
      ],
      "metadata": {
        "colab": {
          "base_uri": "https://localhost:8080/"
        },
        "id": "EI-EYzKS6yJm",
        "outputId": "b3a26de6-e03a-4d74-d310-003d83c56b5c"
      },
      "execution_count": null,
      "outputs": [
        {
          "output_type": "execute_result",
          "data": {
            "text/plain": [
              "np.float64(78.0)"
            ]
          },
          "metadata": {},
          "execution_count": 13
        }
      ]
    },
    {
      "cell_type": "code",
      "source": [
        "#Histogram\n",
        "bins=5\n",
        "plt.hist(grades_listsort, edgecolor=\"blue\", color='black')\n",
        "plt.xlabel('grades')\n",
        "plt.ylabel('frequency')"
      ],
      "metadata": {
        "colab": {
          "base_uri": "https://localhost:8080/",
          "height": 467
        },
        "id": "kOhemF4262SS",
        "outputId": "7f57d4b4-14b3-4199-987d-96ac2290dba8"
      },
      "execution_count": null,
      "outputs": [
        {
          "output_type": "execute_result",
          "data": {
            "text/plain": [
              "Text(0, 0.5, 'frequency')"
            ]
          },
          "metadata": {},
          "execution_count": 14
        },
        {
          "output_type": "display_data",
          "data": {
            "text/plain": [
              "<Figure size 640x480 with 1 Axes>"
            ],
            "image/png": "[encoded data removed]"
          },
          "metadata": {}
        }
      ]
    },
    {
      "cell_type": "code",
      "source": [
        "#Range\n",
        "Range=np.max(grades_listsort)-np.min(grades_listsort)\n",
        "Range"
      ],
      "metadata": {
        "colab": {
          "base_uri": "https://localhost:8080/"
        },
        "id": "-RiJ9Pua9J13",
        "outputId": "e05c400c-2c92-4ac4-cd89-344ea9014937"
      },
      "execution_count": null,
      "outputs": [
        {
          "output_type": "execute_result",
          "data": {
            "text/plain": [
              "np.int64(30)"
            ]
          },
          "metadata": {},
          "execution_count": 15
        }
      ]
    },
    {
      "cell_type": "code",
      "source": [
        "np.std(grades_listsort)"
      ],
      "metadata": {
        "colab": {
          "base_uri": "https://localhost:8080/"
        },
        "id": "RTOcSwpg9dcr",
        "outputId": "4e343467-1283-471a-a8ea-72edf7e55957"
      },
      "execution_count": null,
      "outputs": [
        {
          "output_type": "execute_result",
          "data": {
            "text/plain": [
              "np.float64(10.295630140987)"
            ]
          },
          "metadata": {},
          "execution_count": 16
        }
      ]
    },
    {
      "cell_type": "code",
      "source": [
        "#Q1\n",
        "np.percentile(grades_listsort,25)"
      ],
      "metadata": {
        "colab": {
          "base_uri": "https://localhost:8080/"
        },
        "id": "7Ct5IZTB9mc4",
        "outputId": "75dbbf2d-3fc3-4980-a49f-298e888bc91a"
      },
      "execution_count": null,
      "outputs": [
        {
          "output_type": "execute_result",
          "data": {
            "text/plain": [
              "np.float64(75.0)"
            ]
          },
          "metadata": {},
          "execution_count": 17
        }
      ]
    },
    {
      "cell_type": "code",
      "source": [
        "#Q3\n",
        "np.percentile(grades_listsort,75)"
      ],
      "metadata": {
        "colab": {
          "base_uri": "https://localhost:8080/"
        },
        "id": "7Ceyt-7N-aoM",
        "outputId": "ba500941-891e-4c15-bc39-b1a010c89e48"
      },
      "execution_count": null,
      "outputs": [
        {
          "output_type": "execute_result",
          "data": {
            "text/plain": [
              "np.float64(85.0)"
            ]
          },
          "metadata": {},
          "execution_count": 18
        }
      ]
    },
    {
      "cell_type": "code",
      "source": [
        "#IQR\n",
        "IQR=np.percentile(grades_listsort,75)-np.percentile(grades_listsort,25)\n",
        "IQR"
      ],
      "metadata": {
        "colab": {
          "base_uri": "https://localhost:8080/"
        },
        "id": "I4eXN8B4_AtN",
        "outputId": "8aeb7756-a607-43df-a998-1e34a2e3c15a"
      },
      "execution_count": null,
      "outputs": [
        {
          "output_type": "execute_result",
          "data": {
            "text/plain": [
              "np.float64(10.0)"
            ]
          },
          "metadata": {},
          "execution_count": 19
        }
      ]
    },
    {
      "cell_type": "code",
      "source": [
        "num  = [  22, 56, 11, 4, -17, 6, 80]\n",
        "num"
      ],
      "metadata": {
        "colab": {
          "base_uri": "https://localhost:8080/"
        },
        "id": "bzqtruJLy8Q9",
        "outputId": "114553c2-e62e-4d34-9252-e32a5b8b6a02"
      },
      "execution_count": null,
      "outputs": [
        {
          "output_type": "execute_result",
          "data": {
            "text/plain": [
              "[22, 56, 11, 4, -17, 6, 80]"
            ]
          },
          "metadata": {},
          "execution_count": 40
        }
      ]
    },
    {
      "cell_type": "code",
      "source": [
        "numsort=sorted(num)\n",
        "np.median(numsort)"
      ],
      "metadata": {
        "colab": {
          "base_uri": "https://localhost:8080/"
        },
        "id": "pxTKSbFhz6Je",
        "outputId": "5d9757f3-8d4c-4c06-dd84-0bd95f567830"
      },
      "execution_count": null,
      "outputs": [
        {
          "output_type": "execute_result",
          "data": {
            "text/plain": [
              "np.float64(11.0)"
            ]
          },
          "metadata": {},
          "execution_count": 41
        }
      ]
    },
    {
      "cell_type": "code",
      "source": [
        "list1 = [19, 18, 21, 16, 15, 17, 20, 18]"
      ],
      "metadata": {
        "id": "n7-OIysS1cuZ"
      },
      "execution_count": null,
      "outputs": []
    },
    {
      "cell_type": "code",
      "source": [
        "np.mean(list1)"
      ],
      "metadata": {
        "colab": {
          "base_uri": "https://localhost:8080/"
        },
        "id": "0KhIx95K1rov",
        "outputId": "75cb616b-bb04-4919-cdf2-ad10082fac01"
      },
      "execution_count": null,
      "outputs": [
        {
          "output_type": "execute_result",
          "data": {
            "text/plain": [
              "np.float64(18.0)"
            ]
          },
          "metadata": {},
          "execution_count": 31
        }
      ]
    }
  ],
  "metadata": {
    "colab": {
      "gpuType": "T4",
      "provenance": [],
      "authorship_tag": "ABX9TyNoacdwEjL/R32TRcIPAZPq",
      "include_colab_link": true
    },
    "kernelspec": {
      "display_name": "Python 3",
      "name": "python3"
    },
    "language_info": {
      "name": "python"
    }
  },
  "nbformat": 4,
  "nbformat_minor": 0
}